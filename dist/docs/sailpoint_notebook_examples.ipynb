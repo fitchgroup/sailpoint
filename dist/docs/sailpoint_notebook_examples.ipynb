{
 "cells": [
  {
   "cell_type": "markdown",
   "id": "bdcdd67a-fb70-4264-b27a-48c2bbf230aa",
   "metadata": {
    "tags": []
   },
   "source": [
    "# SailPoint - Python Library\n",
    "\n",
    "## Pre-Requisites\n",
    "\n",
    "1. Install python on your workstation.\n",
    "2. Install the python module `sailpoint` - Ensure you have the most up to date version\n",
    "\n",
    "```\n",
    "    pip install sailpoint-1.X-py3-none-any.whl\n",
    "```\n",
    "\n",
    "3. It is also recommended that you install the `rich` python module. This will allow you to print json and other python objects in a nice, tidy and readable format.\n",
    "\n",
    "```\n",
    "    pip install rich\n",
    "```\n",
    "\n",
    "4. Within IDN navigate to Preferences->Personal Access Tokens and create an access token\n",
    "\n",
    "Now you should be ready to continue.\n",
    "\n",
    "## Getting the library set up\n",
    "\n",
    "You will need to use the information from the token you set up in IDN, and populate the values below:"
   ]
  },
  {
   "cell_type": "code",
   "execution_count": null,
   "id": "0a5aaa5c-77db-44d0-9a77-d3e31bdcc710",
   "metadata": {
    "tags": []
   },
   "outputs": [],
   "source": [
    "from sailpoint.util import IDN\n",
    "from rich import print\n",
    "my_idn_settings = {\n",
    "    \"secret\": \"0123abc0123abc0123abc0123abc0123abc0123abc0123abc0123abc0123abcd\",\n",
    "    \"client_id\": \"abc123abaasd123abcd123abac123\",\n",
    "    \"tenant\": \"mytest-sb\"\n",
    "}\n",
    "idn = IDN(**my_idn_settings)"
   ]
  },
  {
   "cell_type": "markdown",
   "id": "2757aeb8-4902-463d-8181-281a52abc72e",
   "metadata": {},
   "source": [
    "Alternatively if you prefer to not include the access token information in your script files, you can add this to a file in your home directory.\n",
    "\n",
    "Create a file in your home directory: eg. C:\\Users\\dpeters\\.idn_api with the contents as follows: (replacing the values with your access token information)\n",
    "```\n",
    "{\n",
    "    \"secret\": \"0123abc0123abc0123abc0123abc0123abc0123abc0123abc0123abc0123abcd\",\n",
    "    \"client_id\": \"abc123abaasd123abcd123abac123\",\n",
    "    \"tenant\": \"mytest-sb\"\n",
    "}\n",
    "```\n",
    "\n",
    "With this file in place, the `sailpoint` python module will pick up the connection details automatically and you can initialize the library without having to specify these details.\n",
    "\n",
    "You should be able to run the following code without any errors."
   ]
  },
  {
   "cell_type": "code",
   "execution_count": 1,
   "id": "30fe8043-70b6-4ca8-a032-ca65214e027a",
   "metadata": {
    "tags": []
   },
   "outputs": [],
   "source": [
    "from sailpoint.util import IDN\n",
    "from rich import print\n",
    "idn = IDN()"
   ]
  },
  {
   "cell_type": "markdown",
   "id": "c19b9031-4e3b-46a1-9d91-45c501fcb09c",
   "metadata": {
    "tags": []
   },
   "source": [
    "## Help documentation in the python library\n",
    "Help documentation is embedded in the python library. \n",
    "\n",
    "To obtain the help information you can run the python help() function.\n",
    "\n",
    "To print the documentation for the entire module you could run the following:\n",
    "\n",
    "`help(idn)`\n",
    "\n",
    "Or you can alternatively just run the help function for the specific method you are interested in:"
   ]
  },
  {
   "cell_type": "code",
   "execution_count": 2,
   "id": "1a2623a3-9626-4e66-8d47-62eab8fadb5d",
   "metadata": {
    "tags": []
   },
   "outputs": [
    {
     "name": "stdout",
     "output_type": "stream",
     "text": [
      "Help on method get_user_by_name in module sailpoint.util:\n",
      "\n",
      "get_user_by_name(name) method of sailpoint.util.IDN instance\n",
      "    Gets the user by their name\n",
      "    \n",
      "    You can also include wildcards such as: Dave*\n",
      "    Search is case insensitive\n",
      "    \n",
      "    Parameters\n",
      "    --------------------\n",
      "    name: string\n",
      "        The name to search\n",
      "    \n",
      "    Results\n",
      "    --------------------\n",
      "    identities: list of identities\n",
      "\n"
     ]
    }
   ],
   "source": [
    "help(idn.get_user_by_name)"
   ]
  },
  {
   "cell_type": "markdown",
   "id": "09a06100-5d76-4445-a165-3daa70f8ed8f",
   "metadata": {},
   "source": [
    "### Try listing an identity\n",
    "\n",
    "To get the users identity by name you can run this function according to the help message.\n",
    "\n",
    "Sepcify a single string parameter to the function:"
   ]
  },
  {
   "cell_type": "code",
   "execution_count": null,
   "id": "4864e9ac-0ac0-4cbe-bf59-1fb04cf77a9e",
   "metadata": {
    "tags": []
   },
   "outputs": [],
   "source": [
    "print(idn.get_user_by_name('Jason Bourne'))"
   ]
  },
  {
   "cell_type": "markdown",
   "id": "6146f694-bf36-4d7b-a559-5e2cef76c604",
   "metadata": {
    "tags": []
   },
   "source": [
    "### Listing source systems\n",
    "\n",
    "If you run the `list_sources` function, you will get a lot of information back. Feel free to try it below by uncommenting the `idn.list_sources()` function call.\n",
    "\n",
    "However, maybe you want to use a little script to retrieve only the information you want to see."
   ]
  },
  {
   "cell_type": "code",
   "execution_count": null,
   "id": "44e02a00-ebf3-493b-8c5f-5c9c7962b017",
   "metadata": {
    "tags": []
   },
   "outputs": [],
   "source": [
    "# print(idn.list_sources())\n",
    "\n",
    "# running the above will list a lot of information, perhaps we just want the name and descriptions of the sources\n",
    "# We can use a little script to do this:\n",
    "\n",
    "for source in idn.list_sources():\n",
    "    print(\"Source: \" + source['name'] + \" Description: \" + source['description'])"
   ]
  },
  {
   "cell_type": "markdown",
   "id": "3596a134-c4ce-4416-afdf-c08c0ffafc47",
   "metadata": {},
   "source": [
    "#### Listing unhealthy sources\n",
    "\n",
    "You can build upon the above function and list only the unhealthy sources.\n",
    "\n",
    "Say for example you would like to build a script that is run on a hourly basis that lists unhealthy sources and if one is found, you would like to automate some response. This could be sending an email, or creating a jira ticket. In this case we will just print out the name of the source that is not healthy. When considering scripts like this, be aware of the out-of-the-box functionality build into IDN. For example IDN has [System Notifications](https://documentation.sailpoint.com/saas/help/common/getting_notified_org_health.html#configuring-system-notifications) which may be sufficient for what you need to accomplish."
   ]
  },
  {
   "cell_type": "code",
   "execution_count": null,
   "id": "6c17e457-1b33-4ba3-a104-446a17cdd497",
   "metadata": {
    "tags": []
   },
   "outputs": [],
   "source": [
    "idn.list_sources()\n",
    "for source in idn.list_sources():\n",
    "    if not source['healthy']:\n",
    "        print(f\"Source is not healthy: {source['name']}\")"
   ]
  },
  {
   "cell_type": "markdown",
   "id": "d6acd09f-137f-43a6-bd2b-576a2763c4d9",
   "metadata": {
    "tags": []
   },
   "source": [
    "### A practical example - Account Aggregation\n",
    "\n",
    "Now lets do something more useful that you **can not do** through the IDN UI.\n",
    "\n",
    "Say we need to run a non-optimized account aggregation. \n",
    "\n",
    "We can use the function `run_acct_aggregation`.\n",
    "\n",
    "Use the help function to read about this:"
   ]
  },
  {
   "cell_type": "code",
   "execution_count": 3,
   "id": "7f9373bb-d4e3-4ff5-9b5f-bbf0e7bde230",
   "metadata": {
    "tags": []
   },
   "outputs": [
    {
     "name": "stdout",
     "output_type": "stream",
     "text": [
      "Help on method run_acct_aggregation in module sailpoint.util:\n",
      "\n",
      "run_acct_aggregation(source_name, optimized=True) method of sailpoint.util.IDN instance\n",
      "    Runs an account aggregation for a source\n",
      "    \n",
      "    Parameters\n",
      "    --------------------\n",
      "    source_name: string\n",
      "        The name of the source to run the aggregation for.\n",
      "    \n",
      "    optimized: boolean\n",
      "        If True this will be an optimized aggregation, if False it will\n",
      "        do a non-optimized aggregation.\n",
      "    \n",
      "    Results\n",
      "    --------------------\n",
      "    dict: The result of the API call\n",
      "\n"
     ]
    }
   ],
   "source": [
    "help(idn.run_acct_aggregation)"
   ]
  },
  {
   "cell_type": "markdown",
   "id": "50fb3554-4f70-4ab2-9933-49f709241ce6",
   "metadata": {
    "tags": []
   },
   "source": [
    "#### Performing a non-optimized account aggregation\n",
    "\n",
    "Lets do an non-optimized account aggregation on the source: `Active Directory`"
   ]
  },
  {
   "cell_type": "code",
   "execution_count": null,
   "id": "329d7d87-d7f7-4e1c-8ebd-30957c154ce9",
   "metadata": {
    "tags": []
   },
   "outputs": [],
   "source": [
    "idn.run_acct_aggregation('Active Directory', optimized=False)"
   ]
  },
  {
   "cell_type": "markdown",
   "id": "dbb56684-7e29-41cb-ba85-e999bdf80061",
   "metadata": {},
   "source": [
    "### IDN Search\n",
    "\n",
    "The IDN search capability can be accessed through the `search` method. Using the python library and the IDN API you can search on anything as you do through the search UI. \n"
   ]
  },
  {
   "cell_type": "code",
   "execution_count": 4,
   "id": "93f758c3-5fff-4e69-8a72-67201cc007d3",
   "metadata": {
    "tags": []
   },
   "outputs": [
    {
     "name": "stdout",
     "output_type": "stream",
     "text": [
      "Help on method search in module sailpoint.util:\n",
      "\n",
      "search(payload) method of sailpoint.util.IDN instance\n",
      "    Runs a generic search\n",
      "    \n",
      "    You must provide the full payload.\n",
      "    \n",
      "    Can be used to search for anything that the search accepts\n",
      "    \n",
      "    Tip: Use developer tools in your browser on the search screen to\n",
      "    figure out the payload.\n",
      "    \n",
      "    For example:\n",
      "    \n",
      "    payload = {\n",
      "        \"query\": {\"query\": \"email:\"jason.bourne@sailpoint.com\"\"},\n",
      "        \"indices\": [\"identities\"],\n",
      "    }\n",
      "    \n",
      "    Parameters\n",
      "    --------------------\n",
      "    payload: dict\n",
      "        The full search payload\n",
      "    \n",
      "    Results\n",
      "    --------------------\n",
      "    dict: the result\n",
      "\n"
     ]
    }
   ],
   "source": [
    "# To see the help message run:\n",
    "help(idn.search)"
   ]
  },
  {
   "cell_type": "markdown",
   "id": "c2c3e315-6a45-43b0-bcd0-36f97ac7fa91",
   "metadata": {},
   "source": [
    "For example you may want to list all users who have the `Analyst` Access Profile, but are not analysts.\n",
    "\n",
    "The query string that can be used in the search UI is as follows:\n",
    "```\n",
    "@access(name:\"Analyst Role\") AND attributes.analyst:N\n",
    "```\n",
    "\n",
    "If you open developer tools in your browser when you submit that query, you will see in the post the following payload:\n",
    "\n",
    "```\n",
    "{\"query\":{\"query\":\"@access(name:\\\"Analyst Role\\\") AND attributes.analyst:N\"},\"indices\":[\"identities\"],\"includeNested\":false,\"sort\":[\"displayName\"]}\n",
    "```\n",
    "\n",
    "This same payload can be submitted using the `search` method in the python library:"
   ]
  },
  {
   "cell_type": "code",
   "execution_count": null,
   "id": "0c308ba0-f0aa-41f5-bb5e-b2ee92aab285",
   "metadata": {
    "tags": []
   },
   "outputs": [],
   "source": [
    "payload = {\"query\":{\"query\":\"@access(name:\\\"Analyst Role\\\") AND attributes.analyst:N\"},\"indices\":[\"identities\"],\"includeNested\":False,\"sort\":[\"displayName\"]}\n",
    "# idn.search(payload)\n",
    "\n",
    "# Again this may provide more information than what you need for your script, so you can write a small script to include only the information you would like to see\n",
    "\n",
    "# first lets get the list of users\n",
    "user_list = idn.search(payload)\n",
    "\n",
    "print(f'There are: {len(user_list)} users who have the Analyst Role but are not Analysts')\n",
    "print('The following users have the Analyst Role but are not Analysts:')\n",
    "for user in user_list:\n",
    "    user_type = ''\n",
    "    if user['isManager']:\n",
    "        user_type = 'manager'\n",
    "    else:\n",
    "        user_type = 'regular user'\n",
    "    print(f\"\\t- {user['displayName']} - This is a {user_type}\")\n"
   ]
  },
  {
   "cell_type": "markdown",
   "id": "5b1f15d5-6e38-475e-8525-35e14cf1772b",
   "metadata": {},
   "source": [
    "### IDN API\n",
    "\n",
    "The IDN API is documented at: [IdentityNow v3 API](https://developer.sailpoint.com/idn/api/v3)\n",
    "\n",
    "Here you will see each API documented with examples. You can click on the python icon to see the python code you would use to call the specified API.\n",
    "\n",
    "For example if we wanted to call the API: [Pending Access Request Approvals List](https://developer.sailpoint.com/idn/api/v3/list-pending-approvals/)\n",
    "\n",
    "We can do this with the `idn.api` object included in the library.\n",
    "\n",
    "In most cases the library will return the response object. If there is json included in the response, which should be the case most of the time on a successful call, you can access the json by using the `json()` method on the response.\n"
   ]
  },
  {
   "cell_type": "code",
   "execution_count": null,
   "id": "181e8b23-de0e-4652-b8fa-fc6da0ebb622",
   "metadata": {
    "tags": []
   },
   "outputs": [],
   "source": [
    "# As always you can see the help by running the following:\n",
    "help(idn.api)"
   ]
  },
  {
   "cell_type": "markdown",
   "id": "0af4f437-7439-483a-bece-6405e0629e56",
   "metadata": {
    "tags": []
   },
   "source": [
    "We can use the API to list all requests that are pending approval in the system:"
   ]
  },
  {
   "cell_type": "code",
   "execution_count": null,
   "id": "715f492f-7967-4a89-acb6-70ffe451a5a1",
   "metadata": {
    "tags": []
   },
   "outputs": [],
   "source": [
    "response = idn.api(endpoint='access-request-approvals/pending')\n",
    "print('Status Code: ' + str(response.status_code))\n",
    "print(response.json())"
   ]
  },
  {
   "cell_type": "code",
   "execution_count": null,
   "id": "d9160170-6a5c-462f-944b-8c109c66dd6a",
   "metadata": {
    "tags": []
   },
   "outputs": [],
   "source": [
    "response = idn.api(endpoint='access-request-approvals/completed')\n",
    "print('Status Code: ' + str(response.status_code))\n",
    "\n",
    "# print(response.json())\n",
    "\n",
    "# again this may provide more information than you need so you can write a script to get the output you are looking for\n",
    "\n",
    "for req in response.json():\n",
    "    print(f\"Request Date: {req['requestCreated']} For: {req['requestedFor']['name']} Access: {req['requestedObject']['name']}\")"
   ]
  }
 ],
 "metadata": {
  "kernelspec": {
   "display_name": "Python 3 (ipykernel)",
   "language": "python",
   "name": "python3"
  },
  "language_info": {
   "codemirror_mode": {
    "name": "ipython",
    "version": 3
   },
   "file_extension": ".py",
   "mimetype": "text/x-python",
   "name": "python",
   "nbconvert_exporter": "python",
   "pygments_lexer": "ipython3",
   "version": "3.11.1"
  }
 },
 "nbformat": 4,
 "nbformat_minor": 5
}
